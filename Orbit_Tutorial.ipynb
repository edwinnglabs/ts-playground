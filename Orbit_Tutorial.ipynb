{
  "cells": [
    {
      "cell_type": "markdown",
      "metadata": {
        "id": "view-in-github",
        "colab_type": "text"
      },
      "source": [
        "<a href=\"https://colab.research.google.com/github/edwinnglabs/ts-playground/blob/master/Orbit_Tutorial.ipynb\" target=\"_parent\"><img src=\"https://colab.research.google.com/assets/colab-badge.svg\" alt=\"Open In Colab\"/></a>"
      ]
    },
    {
      "cell_type": "markdown",
      "metadata": {
        "id": "PIqrKOFaKgk9"
      },
      "source": [
        "# An Example of Forecasting / Nowcasting with DLT\n",
        "\n",
        "In this session, we will explore:\n",
        "\n",
        "- Orbit Installation\n",
        "- A forecasting task on iclaims dataset\n",
        "- A simple DLT model\n",
        "- DLT model with regression settings\n",
        "- Disgnoses\n",
        "\n",
        "For more examples you can find on [Github](https://github.com/uber/Orbit)."
      ]
    },
    {
      "cell_type": "markdown",
      "source": [
        ""
      ],
      "metadata": {
        "id": "RXLC760U4xAR"
      }
    },
    {
      "cell_type": "markdown",
      "metadata": {
        "id": "BqUh3pnKJwAY"
      },
      "source": [
        "# Installation"
      ]
    },
    {
      "cell_type": "markdown",
      "metadata": {
        "id": "VIZzH4HsJ6Hc"
      },
      "source": [
        "Install from PyPi (Run once):"
      ]
    },
    {
      "cell_type": "code",
      "execution_count": 1,
      "metadata": {
        "id": "TAcUmw6KHYgU"
      },
      "outputs": [],
      "source": [
        "# !pip install orbit-ml>=1.1.0\n",
        "# !pip install matplotlib==3.1.3\n",
        "# !pip install scikit-learn"
      ]
    },
    {
      "cell_type": "code",
      "execution_count": 2,
      "metadata": {
        "id": "TafwfAxhJ2o3"
      },
      "outputs": [],
      "source": [
        "%matplotlib inline\n",
        "\n",
        "import os\n",
        "import platform\n",
        "import numpy as np\n",
        "import matplotlib.pyplot as plt\n",
        "\n",
        "import orbit\n",
        "from orbit.utils.dataset import load_iclaims\n",
        "from orbit.models import DLT\n",
        "from orbit.diagnostics.plot import plot_predicted_data, plot_predicted_components\n",
        "from orbit.diagnostics.metrics import smape\n",
        "from sklearn.preprocessing import MinMaxScaler"
      ]
    },
    {
      "cell_type": "code",
      "source": [
        "seed=2022"
      ],
      "metadata": {
        "id": "JR5-OgjSUds7"
      },
      "execution_count": 3,
      "outputs": []
    },
    {
      "cell_type": "code",
      "execution_count": 4,
      "metadata": {
        "colab": {
          "base_uri": "https://localhost:8080/"
        },
        "id": "bJyAnoornSqB",
        "outputId": "ad6661fc-d343-4d35-82ef-4aec0b5a878f"
      },
      "outputs": [
        {
          "output_type": "stream",
          "name": "stdout",
          "text": [
            "1.1.0\n",
            "posix\n",
            "Linux\n"
          ]
        }
      ],
      "source": [
        "print(orbit.__version__)\n",
        "print(os.name)\n",
        "print(platform.system())"
      ]
    },
    {
      "cell_type": "code",
      "execution_count": 5,
      "metadata": {
        "id": "qgP02fRURpIq"
      },
      "outputs": [],
      "source": [
        "def mae(x, y):\n",
        "    return np.mean(np.abs(x - y))"
      ]
    },
    {
      "cell_type": "markdown",
      "metadata": {
        "id": "ukVfrkx_L6LT"
      },
      "source": [
        "# US Weekly Initial Claims"
      ]
    },
    {
      "cell_type": "markdown",
      "metadata": {
        "id": "UYeyUi6fL2ja"
      },
      "source": [
        "The *iclaims* data contains the weekly initial claims for US unemployment benefits against a few related google trend queries (unemploy, filling and job) \n",
        "from Jan 2010 - June 2018. This dataset was used in the original Bayesian Structural Time-Series paper [Scott and Varan (2013)](https://people.ischool.berkeley.edu/~hal/Papers/2013/pred-present-with-bsts.pdf) as well.\n",
        "\n",
        "Number of claims are obtained from [Federal Reserve Bank of St. Louis](https://fred.stlouisfed.org/series/ICNSA) while regressors such as google queries are obtained through [Google Trends API](https://trends.google.com/trends/?geo=US).\n",
        "\n",
        "In order to use this data to nowcast the US unemployment claims considering the impact of COVID-19, we extended the dataset to Jan 2021 and added the [S&P 500 (^GSPC)](https://finance.yahoo.com/quote/%5EGSPC/history?period1=1264032000&period2=1611187200&interval=1wk&filter=history&frequency=1wk&includeAdjustedClose=true) and [VIX](https://finance.yahoo.com/quote/%5EVIX/history?p=%5EVIX) Index historical data for the same period.\n",
        "\n",
        "**Note:** The data is standardized and log-transformed for the model fitting purpose."
      ]
    },
    {
      "cell_type": "code",
      "execution_count": 6,
      "metadata": {
        "colab": {
          "base_uri": "https://localhost:8080/"
        },
        "id": "akdV4LG2NRyr",
        "outputId": "4f26d17e-375a-4b1c-bd96-9d97c1f839fa"
      },
      "outputs": [
        {
          "output_type": "stream",
          "name": "stderr",
          "text": [
            "INFO:numexpr.utils:NumExpr defaulting to 2 threads.\n"
          ]
        }
      ],
      "source": [
        "# load data\n",
        "df = load_iclaims(end_date='2021-01-03')\n",
        "df = df[['week', 'claims', 'trend.unemploy', 'trend.job', 'sp500', 'vix']]"
      ]
    },
    {
      "cell_type": "code",
      "source": [
        "df[['sp500']] = df[['sp500']].diff()\n",
        "df = df[1:].reset_index(drop=True)\n",
        "\n",
        "date_col = 'week'\n",
        "response_col = 'claims'\n",
        "df.dtypes"
      ],
      "metadata": {
        "colab": {
          "base_uri": "https://localhost:8080/"
        },
        "id": "wdtYB32gdKSm",
        "outputId": "bface716-e94f-451f-9de4-aaf0b6541790"
      },
      "execution_count": 7,
      "outputs": [
        {
          "output_type": "execute_result",
          "data": {
            "text/plain": [
              "week              datetime64[ns]\n",
              "claims                   float64\n",
              "trend.unemploy           float64\n",
              "trend.job                float64\n",
              "sp500                    float64\n",
              "vix                      float64\n",
              "dtype: object"
            ]
          },
          "metadata": {},
          "execution_count": 7
        }
      ]
    },
    {
      "cell_type": "markdown",
      "source": [
        ""
      ],
      "metadata": {
        "id": "SEDux69jdDUK"
      }
    },
    {
      "cell_type": "markdown",
      "source": [
        "To introduce forecastability, we use 12 weeks lag of data for the regressors."
      ],
      "metadata": {
        "id": "E--Agd4mdFRO"
      }
    },
    {
      "cell_type": "code",
      "source": [
        "df[['trend.unemploy', 'trend.job', 'sp500', 'vix']] = df[['trend.unemploy', 'trend.job', 'sp500', 'vix']].shift(12)\n",
        "df = df[12:].reset_index(drop=True)"
      ],
      "metadata": {
        "id": "VmeXrtiqcqm0"
      },
      "execution_count": 8,
      "outputs": []
    },
    {
      "cell_type": "code",
      "execution_count": 9,
      "metadata": {
        "colab": {
          "base_uri": "https://localhost:8080/",
          "height": 206
        },
        "id": "zRyyzIdlNTSi",
        "outputId": "6dfa2af5-36c9-4ec2-c608-fa59bf76c9eb"
      },
      "outputs": [
        {
          "output_type": "execute_result",
          "data": {
            "text/html": [
              "\n",
              "  <div id=\"df-db03e7ce-16ac-40c8-a6e8-037e2f7e5f39\">\n",
              "    <div class=\"colab-df-container\">\n",
              "      <div>\n",
              "<style scoped>\n",
              "    .dataframe tbody tr th:only-of-type {\n",
              "        vertical-align: middle;\n",
              "    }\n",
              "\n",
              "    .dataframe tbody tr th {\n",
              "        vertical-align: top;\n",
              "    }\n",
              "\n",
              "    .dataframe thead th {\n",
              "        text-align: right;\n",
              "    }\n",
              "</style>\n",
              "<table border=\"1\" class=\"dataframe\">\n",
              "  <thead>\n",
              "    <tr style=\"text-align: right;\">\n",
              "      <th></th>\n",
              "      <th>week</th>\n",
              "      <th>claims</th>\n",
              "      <th>trend.unemploy</th>\n",
              "      <th>trend.job</th>\n",
              "      <th>sp500</th>\n",
              "      <th>vix</th>\n",
              "    </tr>\n",
              "  </thead>\n",
              "  <tbody>\n",
              "    <tr>\n",
              "      <th>0</th>\n",
              "      <td>2010-04-04</td>\n",
              "      <td>12.950697</td>\n",
              "      <td>0.016351</td>\n",
              "      <td>0.181862</td>\n",
              "      <td>-0.007847</td>\n",
              "      <td>0.069878</td>\n",
              "    </tr>\n",
              "    <tr>\n",
              "      <th>1</th>\n",
              "      <td>2010-04-11</td>\n",
              "      <td>13.150243</td>\n",
              "      <td>0.032611</td>\n",
              "      <td>0.130569</td>\n",
              "      <td>-0.039749</td>\n",
              "      <td>0.491772</td>\n",
              "    </tr>\n",
              "    <tr>\n",
              "      <th>2</th>\n",
              "      <td>2010-04-18</td>\n",
              "      <td>12.987263</td>\n",
              "      <td>-0.000179</td>\n",
              "      <td>0.119987</td>\n",
              "      <td>-0.016522</td>\n",
              "      <td>0.388078</td>\n",
              "    </tr>\n",
              "    <tr>\n",
              "      <th>3</th>\n",
              "      <td>2010-04-25</td>\n",
              "      <td>12.969669</td>\n",
              "      <td>-0.069172</td>\n",
              "      <td>0.087552</td>\n",
              "      <td>-0.007177</td>\n",
              "      <td>0.446838</td>\n",
              "    </tr>\n",
              "    <tr>\n",
              "      <th>4</th>\n",
              "      <td>2010-05-02</td>\n",
              "      <td>12.897594</td>\n",
              "      <td>-0.182500</td>\n",
              "      <td>0.019344</td>\n",
              "      <td>0.008703</td>\n",
              "      <td>0.308205</td>\n",
              "    </tr>\n",
              "  </tbody>\n",
              "</table>\n",
              "</div>\n",
              "      <button class=\"colab-df-convert\" onclick=\"convertToInteractive('df-db03e7ce-16ac-40c8-a6e8-037e2f7e5f39')\"\n",
              "              title=\"Convert this dataframe to an interactive table.\"\n",
              "              style=\"display:none;\">\n",
              "        \n",
              "  <svg xmlns=\"http://www.w3.org/2000/svg\" height=\"24px\"viewBox=\"0 0 24 24\"\n",
              "       width=\"24px\">\n",
              "    <path d=\"M0 0h24v24H0V0z\" fill=\"none\"/>\n",
              "    <path d=\"M18.56 5.44l.94 2.06.94-2.06 2.06-.94-2.06-.94-.94-2.06-.94 2.06-2.06.94zm-11 1L8.5 8.5l.94-2.06 2.06-.94-2.06-.94L8.5 2.5l-.94 2.06-2.06.94zm10 10l.94 2.06.94-2.06 2.06-.94-2.06-.94-.94-2.06-.94 2.06-2.06.94z\"/><path d=\"M17.41 7.96l-1.37-1.37c-.4-.4-.92-.59-1.43-.59-.52 0-1.04.2-1.43.59L10.3 9.45l-7.72 7.72c-.78.78-.78 2.05 0 2.83L4 21.41c.39.39.9.59 1.41.59.51 0 1.02-.2 1.41-.59l7.78-7.78 2.81-2.81c.8-.78.8-2.07 0-2.86zM5.41 20L4 18.59l7.72-7.72 1.47 1.35L5.41 20z\"/>\n",
              "  </svg>\n",
              "      </button>\n",
              "      \n",
              "  <style>\n",
              "    .colab-df-container {\n",
              "      display:flex;\n",
              "      flex-wrap:wrap;\n",
              "      gap: 12px;\n",
              "    }\n",
              "\n",
              "    .colab-df-convert {\n",
              "      background-color: #E8F0FE;\n",
              "      border: none;\n",
              "      border-radius: 50%;\n",
              "      cursor: pointer;\n",
              "      display: none;\n",
              "      fill: #1967D2;\n",
              "      height: 32px;\n",
              "      padding: 0 0 0 0;\n",
              "      width: 32px;\n",
              "    }\n",
              "\n",
              "    .colab-df-convert:hover {\n",
              "      background-color: #E2EBFA;\n",
              "      box-shadow: 0px 1px 2px rgba(60, 64, 67, 0.3), 0px 1px 3px 1px rgba(60, 64, 67, 0.15);\n",
              "      fill: #174EA6;\n",
              "    }\n",
              "\n",
              "    [theme=dark] .colab-df-convert {\n",
              "      background-color: #3B4455;\n",
              "      fill: #D2E3FC;\n",
              "    }\n",
              "\n",
              "    [theme=dark] .colab-df-convert:hover {\n",
              "      background-color: #434B5C;\n",
              "      box-shadow: 0px 1px 3px 1px rgba(0, 0, 0, 0.15);\n",
              "      filter: drop-shadow(0px 1px 2px rgba(0, 0, 0, 0.3));\n",
              "      fill: #FFFFFF;\n",
              "    }\n",
              "  </style>\n",
              "\n",
              "      <script>\n",
              "        const buttonEl =\n",
              "          document.querySelector('#df-db03e7ce-16ac-40c8-a6e8-037e2f7e5f39 button.colab-df-convert');\n",
              "        buttonEl.style.display =\n",
              "          google.colab.kernel.accessAllowed ? 'block' : 'none';\n",
              "\n",
              "        async function convertToInteractive(key) {\n",
              "          const element = document.querySelector('#df-db03e7ce-16ac-40c8-a6e8-037e2f7e5f39');\n",
              "          const dataTable =\n",
              "            await google.colab.kernel.invokeFunction('convertToInteractive',\n",
              "                                                     [key], {});\n",
              "          if (!dataTable) return;\n",
              "\n",
              "          const docLinkHtml = 'Like what you see? Visit the ' +\n",
              "            '<a target=\"_blank\" href=https://colab.research.google.com/notebooks/data_table.ipynb>data table notebook</a>'\n",
              "            + ' to learn more about interactive tables.';\n",
              "          element.innerHTML = '';\n",
              "          dataTable['output_type'] = 'display_data';\n",
              "          await google.colab.output.renderOutput(dataTable, element);\n",
              "          const docLink = document.createElement('div');\n",
              "          docLink.innerHTML = docLinkHtml;\n",
              "          element.appendChild(docLink);\n",
              "        }\n",
              "      </script>\n",
              "    </div>\n",
              "  </div>\n",
              "  "
            ],
            "text/plain": [
              "        week     claims  trend.unemploy  trend.job     sp500       vix\n",
              "0 2010-04-04  12.950697        0.016351   0.181862 -0.007847  0.069878\n",
              "1 2010-04-11  13.150243        0.032611   0.130569 -0.039749  0.491772\n",
              "2 2010-04-18  12.987263       -0.000179   0.119987 -0.016522  0.388078\n",
              "3 2010-04-25  12.969669       -0.069172   0.087552 -0.007177  0.446838\n",
              "4 2010-05-02  12.897594       -0.182500   0.019344  0.008703  0.308205"
            ]
          },
          "metadata": {},
          "execution_count": 9
        }
      ],
      "source": [
        "df.head(5)"
      ]
    },
    {
      "cell_type": "markdown",
      "metadata": {
        "id": "EMPg4sW4NsR8"
      },
      "source": [
        "We can see from the charts below, there are seasonlity, trend, and as well as a huge changpoint due the impact of COVID-19."
      ]
    },
    {
      "cell_type": "code",
      "execution_count": 10,
      "metadata": {
        "colab": {
          "base_uri": "https://localhost:8080/",
          "height": 516
        },
        "id": "mD4KLcIDNVV_",
        "outputId": "f5968c8b-e9f5-4553-e256-24af516df01f"
      },
      "outputs": [
        {
          "output_type": "execute_result",
          "data": {
            "text/plain": [
              "Text(0.5, 1.0, 'S&P500')"
            ]
          },
          "metadata": {},
          "execution_count": 10
        },
        {
          "output_type": "display_data",
          "data": {
            "image/png": "[encoded data removed]",
            "text/plain": [
              "<Figure size 1152x576 with 4 Axes>"
            ]
          },
          "metadata": {
            "needs_background": "light"
          }
        }
      ],
      "source": [
        "fig, axs = plt.subplots(2, 2, figsize=(16, 8))\n",
        "axs[0, 0].plot(df['week'], df['claims'])\n",
        "axs[0, 0].set_title('Unemployment Claims')\n",
        "axs[0, 1].plot(df['week'], df['trend.unemploy'], 'tab:orange')\n",
        "axs[0, 1].set_title('Google trend - unemploy')\n",
        "axs[1, 0].plot(df['week'], df['vix'], 'tab:green')\n",
        "axs[1, 0].set_title('VIX')\n",
        "axs[1, 1].plot(df['week'], df['sp500'], 'tab:red')\n",
        "axs[1, 1].set_title('S&P500')"
      ]
    },
    {
      "cell_type": "markdown",
      "metadata": {
        "id": "kwoeYdLvOwoY"
      },
      "source": [
        "## Train / Test Split"
      ]
    },
    {
      "cell_type": "markdown",
      "metadata": {
        "id": "q0bONJUP8vMz"
      },
      "source": [
        "To make Bayesian priors comparable across regressors, we need some transformation across regressors."
      ]
    },
    {
      "cell_type": "code",
      "execution_count": 11,
      "metadata": {
        "id": "FGqqs1q0NrRk"
      },
      "outputs": [],
      "source": [
        "# using relatively updated data\n",
        "df = df[df['week'] > '2018-01-01'].reset_index(drop=True)\n",
        "test_size = 12\n",
        "train_df = df[:-test_size].reset_index(drop=True)\n",
        "test_df = df[-test_size:].reset_index(drop=True)\n",
        "\n",
        "scaler = MinMaxScaler()\n",
        "train_df[['claims', 'trend.unemploy', 'trend.job', 'sp500', 'vix']] = scaler.fit_transform(train_df[['claims', 'trend.unemploy', 'trend.job', 'sp500', 'vix']])\n",
        "test_df[['claims', 'trend.unemploy', 'trend.job', 'sp500', 'vix']] = scaler.transform(test_df[['claims', 'trend.unemploy', 'trend.job', 'sp500', 'vix']])"
      ]
    },
    {
      "cell_type": "markdown",
      "metadata": {
        "id": "-nRsAtnjO-cG"
      },
      "source": [
        "# Simple DLT Model"
      ]
    },
    {
      "cell_type": "code",
      "execution_count": null,
      "metadata": {
        "colab": {
          "base_uri": "https://localhost:8080/"
        },
        "id": "QNejs5HEO4Wi",
        "outputId": "65bf808d-7382-450a-af55-9c0512b3f0f4"
      },
      "outputs": [
        {
          "output_type": "stream",
          "name": "stderr",
          "text": [
            "INFO:pystan:COMPILING THE C++ CODE FOR MODEL anon_model_05ff738ef22ce2e8a332ce639cee65cf NOW.\n"
          ]
        }
      ],
      "source": [
        "dlt = DLT(\n",
        "    response_col=response_col,\n",
        "    date_col=date_col,\n",
        "    seasonality=52,\n",
        "    num_warmup=4000,\n",
        "    num_sample=1000,\n",
        "    estimator='stan-mcmc',\n",
        "    seed=2022,\n",
        ")\n",
        "\n",
        "dlt.fit(df=train_df)\n",
        "predicted_df = dlt.predict(df=test_df)"
      ]
    },
    {
      "cell_type": "code",
      "execution_count": null,
      "metadata": {
        "id": "4DcyujW4PEcu"
      },
      "outputs": [],
      "source": [
        "# TODO: some bug on use_orbit_style=True\n",
        "_ = plot_predicted_data(training_actual_df=train_df, predicted_df=predicted_df, \n",
        "                        date_col=date_col, actual_col=response_col, test_actual_df=test_df,\n",
        "                        use_orbit_style=False,\n",
        "                        title='DLT with Linear Global Trend')"
      ]
    },
    {
      "cell_type": "markdown",
      "metadata": {
        "id": "YIKAUR5-PnSJ"
      },
      "source": [
        "# DLT With Regression"
      ]
    },
    {
      "cell_type": "markdown",
      "metadata": {
        "id": "8rQHtZyyPuD1"
      },
      "source": [
        "The regressor columns can be supplied via argument `regressor_col`.  Recall the regression formula in **DLT**:\n",
        "\n",
        "$$\n",
        "\\hat{y}_t =\\mu_t + s_t + r_t \\\\\n",
        "r_t = \\sum_{j}\\beta_j x_{jt} \\\\\n",
        "\\beta_j ~\\sim \\mathcal{N}(\\mu_j, \\sigma_j^2)\n",
        "$$\n",
        "\n",
        "Let's use the default where $\\mu_j = 0$ and $\\sigma_j = 1$.  In addition, we can set a *sign* constraint for each coefficient $\\beta_j$.  This is can be done by supplying the `regressor_sign` as a list where elements are in one of followings:\n",
        "\n",
        "* '=': $\\beta_j ~\\sim \\mathcal{N}(0, \\sigma_j^2)$  i.e. $\\beta_j \\in (-\\inf, \\inf)$\n",
        "* '+': $\\beta_j ~\\sim \\mathcal{N}^+(0, \\sigma_j^2)$  i.e. $\\beta_j \\in [0, \\inf)$\n",
        "* '-': $\\beta_j ~\\sim \\mathcal{N}^-(0, \\sigma_j^2)$  i.e. $\\beta_j \\in (-\\inf, 0]$\n",
        "\n",
        "Based on some intuition, it's reasonable to assume search terms such as \"unemployment\", \"filling\" and **VIX** index to be positively correlated and stock index such as **SP500** to be negatively correlated to the outcome.  Then we will leave whatever unsured as a regular regressor."
      ]
    },
    {
      "cell_type": "markdown",
      "metadata": {
        "id": "-5myLe75QBsv"
      },
      "source": [
        "## Regular Regression"
      ]
    },
    {
      "cell_type": "code",
      "execution_count": null,
      "metadata": {
        "id": "X0umPGH1PsmK"
      },
      "outputs": [],
      "source": [
        "dlt_reg = DLT(\n",
        "    response_col=response_col, \n",
        "    date_col=date_col,\n",
        "    regressor_col=['trend.unemploy', 'trend.job', 'sp500', 'vix'],\n",
        "    seasonality=52,\n",
        "    num_warmup=4000,\n",
        "    num_sample=1000,\n",
        "    estimator='stan-mcmc',\n",
        "    seed=2022,\n",
        ")\n",
        "\n",
        "dlt_reg.fit(df=train_df)\n",
        "predicted_df_reg = dlt_reg.predict(test_df, decompose=True)"
      ]
    },
    {
      "cell_type": "code",
      "execution_count": null,
      "metadata": {
        "id": "k7GlGkuQxWhB"
      },
      "outputs": [],
      "source": [
        "_ = plot_predicted_data(training_actual_df=train_df, predicted_df=predicted_df_reg, \n",
        "                        date_col=date_col, actual_col=response_col, test_actual_df=test_df,\n",
        "                        use_orbit_style=False,\n",
        "                        title='DLT with Regular Regresion')"
      ]
    },
    {
      "cell_type": "markdown",
      "metadata": {
        "id": "r-k69AWexUsq"
      },
      "source": [
        ""
      ]
    },
    {
      "cell_type": "markdown",
      "metadata": {
        "id": "msHJC7T4QIo4"
      },
      "source": [
        "The estimated regressor coefficients can be retrieved via `.get_regression_coefs()`."
      ]
    },
    {
      "cell_type": "code",
      "execution_count": null,
      "metadata": {
        "id": "_1jCWeEeQAFG"
      },
      "outputs": [],
      "source": [
        "dlt_reg.get_regression_coefs()"
      ]
    },
    {
      "cell_type": "markdown",
      "metadata": {
        "id": "X8jzqxV876Hd"
      },
      "source": [
        "### Diagnoses"
      ]
    },
    {
      "cell_type": "markdown",
      "metadata": {
        "id": "-8O3j7F287k9"
      },
      "source": [
        "#### Decomposition "
      ]
    },
    {
      "cell_type": "markdown",
      "metadata": {
        "id": "et-wIx_Q9QdY"
      },
      "source": [
        "`plot_predicted_components` is the utility to plot each component separately. This is useful when one wants to look into the model prediction results and inspect each component separately."
      ]
    },
    {
      "cell_type": "code",
      "execution_count": null,
      "metadata": {
        "id": "WxSE_VFg86xz"
      },
      "outputs": [],
      "source": [
        "_ = plot_predicted_components(predicted_df_reg, date_col, \n",
        "                              use_orbit_style=False,\n",
        "                              plot_components=['prediction', 'trend', 'seasonality', 'regression'])"
      ]
    },
    {
      "cell_type": "markdown",
      "metadata": {
        "id": "PL0RMStc_KzY"
      },
      "source": [
        "#### Posterior Diagnostic Visualizations"
      ]
    },
    {
      "cell_type": "markdown",
      "metadata": {
        "id": "1O0Xm6J4_N9l"
      },
      "source": [
        "In this section, we introduce to a few recommended diagnostic plots to diagnostic Orbit models. The posterior samples in SVI and Full Bayesian i.e. `FullBayesianForecaster` and `SVIForecaster`.\n",
        "\n",
        "The plots are created by `ArviZ` for the plots. `ArviZ` is a Python package for exploratory analysis of Bayesian models, includes functions for posterior analysis, data storage, model checking, comparison and diagnostics.\n",
        "\n",
        "1. Trace plot\n",
        "2. Pair density plot\n",
        "\n",
        "First, let's load the library.\n",
        "-"
      ]
    },
    {
      "cell_type": "code",
      "source": [
        "import arviz as az\n",
        "az.style.use('arviz-darkgrid')"
      ],
      "metadata": {
        "id": "3_wavZPdSuAW"
      },
      "execution_count": null,
      "outputs": []
    },
    {
      "cell_type": "markdown",
      "metadata": {
        "id": "DJuArlba_vF8"
      },
      "source": [
        "##### Trace plot"
      ]
    },
    {
      "cell_type": "markdown",
      "metadata": {
        "id": "78yVcCVP_6L-"
      },
      "source": [
        "Trace plot shows the iterations of each paramter over the Markov chian sampling process. Trace plots provide an important tool for assessing mixing of a chain."
      ]
    },
    {
      "cell_type": "code",
      "source": [
        "ps = dlt_reg.get_posterior_samples(relabel=True, permute=False)\n",
        "ps.keys()"
      ],
      "metadata": {
        "id": "3oRu13TIRjRy"
      },
      "execution_count": null,
      "outputs": []
    },
    {
      "cell_type": "code",
      "source": [
        "az.plot_trace(\n",
        "    ps,\n",
        "    var_names=['trend.unemploy', 'trend.job', 'sp500', 'vix', 'obs_sigma'],\n",
        "    chain_prop={\"color\": ['r', 'b', 'g', 'y']},\n",
        "    figsize=(10, 8),\n",
        ");"
      ],
      "metadata": {
        "id": "DkqoWjDnRgQb"
      },
      "execution_count": null,
      "outputs": []
    },
    {
      "cell_type": "markdown",
      "metadata": {
        "id": "d1oBUrWZ_UVP"
      },
      "source": [
        "##### Pair density plot"
      ]
    },
    {
      "cell_type": "markdown",
      "metadata": {
        "id": "ZrAUW5oM_isJ"
      },
      "source": [
        "We can also check the density of samples by pair plot."
      ]
    },
    {
      "cell_type": "code",
      "execution_count": null,
      "metadata": {
        "id": "zH4wRZyh-kn-"
      },
      "outputs": [],
      "source": [
        "az.plot_pair(\n",
        "    ps,\n",
        "    var_names=['trend.unemploy', 'trend.job', 'sp500', 'vix', 'obs_sigma'],\n",
        "    kind=[\"scatter\", \"kde\"],\n",
        "    marginals=True,\n",
        "    point_estimate=\"median\",\n",
        "    textsize=10.5,\n",
        "    figsize=(8,8)\n",
        ");"
      ]
    },
    {
      "cell_type": "markdown",
      "metadata": {
        "id": "sYj-smh5QNEu"
      },
      "source": [
        "## Regression with Informative Priors / Regularized Priors"
      ]
    },
    {
      "cell_type": "markdown",
      "metadata": {
        "id": "ZNzRoGhwQ_Ub"
      },
      "source": [
        "Assuming users obtain further knowledge on some of the regressors, they could use informative priors ($\\mu$, $\\sigma$) by replacing the defaults. This can be done via the arguments `regressor_beta_prior` and `regressor_sigma_prior`. These two lists should be of the same length as `regressor_col`."
      ]
    },
    {
      "cell_type": "code",
      "execution_count": null,
      "metadata": {
        "id": "_JcDeRsAQK5K"
      },
      "outputs": [],
      "source": [
        "dlt_reg_adjust = DLT(\n",
        "    response_col=response_col,\n",
        "    date_col=date_col,\n",
        "    regressor_col=['trend.unemploy', 'trend.job', 'sp500','vix'],\n",
        "    regressor_sign=['+','=','-','+'],\n",
        "    # regressor_beta_prior=[0.1, 0.01, -0.02, 0.01],\n",
        "    regressor_sigma_prior=[0.1] * 4,\n",
        "    num_warmup=4000,\n",
        "    num_sample=1000,\n",
        "    estimator='stan-mcmc',\n",
        "    seed=2022,\n",
        ")\n",
        "dlt_reg_adjust.fit(df=train_df)\n",
        "predicted_df_reg_adjust = dlt_reg_adjust.predict(test_df, decompose=True)"
      ]
    },
    {
      "cell_type": "code",
      "execution_count": null,
      "metadata": {
        "id": "cCKbbDQaydlZ"
      },
      "outputs": [],
      "source": [
        "_ = plot_predicted_data(training_actual_df=train_df, predicted_df=predicted_df_reg_adjust, \n",
        "                        date_col=date_col, actual_col=response_col, test_actual_df=test_df,\n",
        "                        use_orbit_style=False,\n",
        "                        title='DLT with Regresion of Informative Priors')"
      ]
    },
    {
      "cell_type": "code",
      "execution_count": null,
      "metadata": {
        "id": "2Kx3u5vqRZmY"
      },
      "outputs": [],
      "source": [
        "dlt_reg_adjust.get_regression_coefs()"
      ]
    },
    {
      "cell_type": "code",
      "execution_count": null,
      "metadata": {
        "id": "eqkWZzEURbQd"
      },
      "outputs": [],
      "source": [
        "naive_mae = mae(predicted_df['prediction'].values, test_df['claims'].values)\n",
        "reg_mae = mae(predicted_df_reg['prediction'].values, test_df['claims'].values)\n",
        "reg_adjust_mae = mae(predicted_df_reg_adjust['prediction'].values, test_df['claims'].values)\n",
        "\n",
        "print('Naive Model: {:.3f}\\nRegression Model: {:.3f}\\nRefined Regression Model: {:.3f}'.format(\n",
        "    naive_mae, reg_mae, reg_adjust_mae\n",
        "))"
      ]
    }
  ],
  "metadata": {
    "colab": {
      "collapsed_sections": [],
      "name": "Orbit_Tutorial.ipynb",
      "provenance": [],
      "include_colab_link": true
    },
    "kernelspec": {
      "display_name": "Python 3 (ipykernel)",
      "language": "python",
      "name": "python3"
    },
    "language_info": {
      "codemirror_mode": {
        "name": "ipython",
        "version": 3
      },
      "file_extension": ".py",
      "mimetype": "text/x-python",
      "name": "python",
      "nbconvert_exporter": "python",
      "pygments_lexer": "ipython3",
      "version": "3.7.9"
    },
    "toc": {
      "base_numbering": 1,
      "nav_menu": {},
      "number_sections": true,
      "sideBar": true,
      "skip_h1_title": false,
      "title_cell": "Table of Contents",
      "title_sidebar": "Contents",
      "toc_cell": false,
      "toc_position": {},
      "toc_section_display": true,
      "toc_window_display": false
    }
  },
  "nbformat": 4,
  "nbformat_minor": 0
}