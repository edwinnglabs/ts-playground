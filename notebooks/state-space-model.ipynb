{
 "cells": [
  {
   "cell_type": "code",
   "execution_count": 1,
   "id": "f77c45b8-5513-4c18-b48f-8a893978e37d",
   "metadata": {},
   "outputs": [],
   "source": [
    "import pystan\n",
    "import numpy as np\n",
    "import multiprocessing\n",
    "import matplotlib.pyplot as plt\n",
    "\n",
    "import orbit\n",
    "from orbit.utils.stan import compile_stan_model_simplified, get_compiled_stan_model_simplified\n",
    "from orbit.utils.dataset import load_m3monthly"
   ]
  },
  {
   "cell_type": "code",
   "execution_count": 2,
   "id": "8dca9be6-ddae-46d5-9dae-9d8926b39320",
   "metadata": {},
   "outputs": [],
   "source": [
    "multiprocessing.set_start_method(\"fork\", force=True)"
   ]
  },
  {
   "cell_type": "code",
   "execution_count": 3,
   "id": "584b5301-c245-46eb-b6f1-519b8e7c5c9a",
   "metadata": {
    "tags": []
   },
   "outputs": [],
   "source": [
    "stan_model_path = \"./stan/ss_local_level.stan\"\n",
    "compiled_path = compile_stan_model_simplified(\"./stan/ss_local_level.stan\")\n",
    "stan_mod = get_compiled_stan_model_simplified(compiled_path)"
   ]
  },
  {
   "cell_type": "code",
   "execution_count": 4,
   "id": "383877e1-641c-4c4a-8b74-a1f0491b6977",
   "metadata": {},
   "outputs": [],
   "source": [
    "data = load_m3monthly()"
   ]
  },
  {
   "cell_type": "code",
   "execution_count": 5,
   "id": "2201cc3b-689d-4d07-8d52-8f1be8bf157a",
   "metadata": {},
   "outputs": [
    {
     "data": {
      "text/plain": [
       "array([-0.28426165, -0.28426165, -0.5344855 ,  0.52896586,  0.09107412,\n",
       "       -0.40937358,  0.21618605, -0.65959743,  0.52896586,  0.71663375,\n",
       "       -1.41026898,  0.27874201,  1.27963741, -0.15914973, -0.72215339,\n",
       "       -0.0340378 , -0.40937358, -0.34681761,  3.03120435, -0.28426165,\n",
       "       -0.0340378 , -0.15914973,  2.90609243,  1.02941356, -0.5344855 ,\n",
       "        2.65586858,  0.90430163, -0.0340378 ,  1.78008511,  0.4664099 ,\n",
       "        1.40474933, -0.78470935,  1.84264107, -0.59704146,  1.71752914,\n",
       "       -0.65959743,  0.21618605, -0.59704146, -0.22170569,  0.34129797,\n",
       "       -1.16004513, -0.47192954, -0.97237724, -0.5344855 ,  0.84174567,\n",
       "       -0.09659377, -0.0340378 ,  1.40474933, -0.28426165, -0.40937358,\n",
       "       -0.47192954, -1.41026898,  0.96685759, -0.65959743, -1.22260109,\n",
       "       -0.34681761, -0.84726531, -0.90982128, -1.5353809 , -0.72215339,\n",
       "        0.77918971, -0.72215339, -0.78470935,  0.27874201, -0.5344855 ,\n",
       "       -1.41026898, -0.59704146, -0.90982128])"
      ]
     },
     "execution_count": 5,
     "metadata": {},
     "output_type": "execute_result"
    }
   ],
   "source": [
    "y = data.loc[data['key'] == 'N1402', 'value'].values\n",
    "y = (y - np.mean(y)) / np.std(y)\n",
    "y"
   ]
  },
  {
   "cell_type": "code",
   "execution_count": 6,
   "id": "a9e76c07-90b9-4121-aa58-fee71fb52d18",
   "metadata": {},
   "outputs": [
    {
     "data": {
      "text/plain": [
       "1.0"
      ]
     },
     "execution_count": 6,
     "metadata": {},
     "output_type": "execute_result"
    }
   ],
   "source": [
    "np.std(y) ** 2"
   ]
  },
  {
   "cell_type": "code",
   "execution_count": 7,
   "id": "fbaf267e-2779-49c2-a332-65e9b18cf714",
   "metadata": {},
   "outputs": [],
   "source": [
    "input = {\n",
    "    'N' : len(y),\n",
    "    'Y' : y,\n",
    "    'SD_Y' : 1.0,\n",
    "    'A1' : 0.0,\n",
    "    'P1' : 1.0,\n",
    "    'state_sigma_mean': 0.01,\n",
    "    'state_sigma_sd': 0.1,\n",
    "    'obs_sigma_mean': 0.1,\n",
    "    'obs_sigma_sd': 1.0,\n",
    "}"
   ]
  },
  {
   "cell_type": "code",
   "execution_count": 8,
   "id": "24e90e04-437d-41aa-be73-a05c1687786e",
   "metadata": {},
   "outputs": [
    {
     "name": "stdout",
     "output_type": "stream",
     "text": [
      "\n",
      "Gradient evaluation took 4.4e-05 seconds\n",
      "1000 transitions using 10 leapfrog steps per transition would take 0.44 seconds.\n",
      "Adjust your expectations accordingly!\n",
      "\n",
      "\n",
      "\n",
      "Gradient evaluation took 4.7e-05 seconds\n",
      "1000 transitions using 10 leapfrog steps per transition would take 0.47 seconds.\n",
      "Adjust your expectations accordingly!\n",
      "\n",
      "\n",
      "Iteration:    1 / 8000 [  0%]  (Warmup)\n",
      "\n",
      "Gradient evaluation took 4.5e-05 seconds\n",
      "1000 transitions using 10 leapfrog steps per transition would take 0.45 seconds.\n",
      "Adjust your expectations accordingly!\n",
      "\n",
      "\n",
      "\n",
      "Gradient evaluation took 3.3e-05 seconds\n",
      "1000 transitions using 10 leapfrog steps per transition would take 0.33 seconds.\n",
      "Adjust your expectations accordingly!\n",
      "\n",
      "\n",
      "Iteration:    1 / 8000 [  0%]  (Warmup)\n",
      "Exception initializing step size.\n",
      "Posterior is improper. Please check your model.\n",
      "Exception initializing step size.\n",
      "Posterior is improper. Please check your model.\n",
      "Iteration:  800 / 8000 [ 10%]  (Warmup)\n",
      "Iteration:  800 / 8000 [ 10%]  (Warmup)\n",
      "Iteration: 1600 / 8000 [ 20%]  (Warmup)\n",
      "Iteration: 1600 / 8000 [ 20%]  (Warmup)\n",
      "Iteration: 2400 / 8000 [ 30%]  (Warmup)\n",
      "Iteration: 2400 / 8000 [ 30%]  (Warmup)\n",
      "Iteration: 3200 / 8000 [ 40%]  (Warmup)\n",
      "Iteration: 3200 / 8000 [ 40%]  (Warmup)\n",
      "Iteration: 4000 / 8000 [ 50%]  (Warmup)\n",
      "Iteration: 4001 / 8000 [ 50%]  (Sampling)\n",
      "Iteration: 4000 / 8000 [ 50%]  (Warmup)\n",
      "Iteration: 4001 / 8000 [ 50%]  (Sampling)\n",
      "Iteration: 4800 / 8000 [ 60%]  (Sampling)\n",
      "Iteration: 5600 / 8000 [ 70%]  (Sampling)\n",
      "Iteration: 6400 / 8000 [ 80%]  (Sampling)\n",
      "Iteration: 4800 / 8000 [ 60%]  (Sampling)\n",
      "Iteration: 7200 / 8000 [ 90%]  (Sampling)\n",
      "Iteration: 5600 / 8000 [ 70%]  (Sampling)\n",
      "Iteration: 8000 / 8000 [100%]  (Sampling)\n",
      "\n",
      " Elapsed Time: 0.490114 seconds (Warm-up)\n",
      "               0.543726 seconds (Sampling)\n",
      "               1.03384 seconds (Total)\n",
      "\n",
      "Iteration: 6400 / 8000 [ 80%]  (Sampling)\n",
      "Iteration: 7200 / 8000 [ 90%]  (Sampling)\n"
     ]
    },
    {
     "name": "stderr",
     "output_type": "stream",
     "text": [
      "WARNING:pystan:n_eff / iter below 0.001 indicates that the effective sample size has likely been overestimated\n",
      "WARNING:pystan:Rhat above 1.1 or below 0.9 indicates that the chains very likely have not mixed\n",
      "WARNING:pystan:7040 of 16000 iterations ended with a divergence (44 %).\n",
      "WARNING:pystan:Try running with adapt_delta larger than 0.8 to remove the divergences.\n",
      "/Users/towinazure/opt/miniconda3/envs/ts/lib/python3.8/site-packages/pystan/diagnostics.py:217: RuntimeWarning: invalid value encountered in true_divide\n",
      "  e_bfmi = numer / denom\n",
      "WARNING:pystan:Chain 2: E-BFMI = 0\n",
      "WARNING:pystan:Chain 4: E-BFMI = 0\n",
      "WARNING:pystan:E-BFMI below 0.2 indicates you may need to reparameterize your model\n"
     ]
    },
    {
     "name": "stdout",
     "output_type": "stream",
     "text": [
      "Iteration: 8000 / 8000 [100%]  (Sampling)\n",
      "\n",
      " Elapsed Time: 0.555717 seconds (Warm-up)\n",
      "               1.1717 seconds (Sampling)\n",
      "               1.72741 seconds (Total)\n",
      "\n"
     ]
    }
   ],
   "source": [
    "results = stan_mod.sampling(\n",
    "    data=input,\n",
    "    warmup=4000,\n",
    "    iter=8000,\n",
    ")"
   ]
  },
  {
   "cell_type": "code",
   "execution_count": 9,
   "id": "31b5fe0d-96d3-4f4b-b093-51761ad3f0d0",
   "metadata": {},
   "outputs": [],
   "source": [
    "posteriors = results.extract(permuted=True)\n",
    "states_mean = posteriors['a']\n",
    "states_mean = np.mean(states_mean, 0)"
   ]
  },
  {
   "cell_type": "code",
   "execution_count": 10,
   "id": "9c1454bb-5360-485f-a43d-ddef23615876",
   "metadata": {},
   "outputs": [
    {
     "data": {
      "text/plain": [
       "(69,)"
      ]
     },
     "execution_count": 10,
     "metadata": {},
     "output_type": "execute_result"
    }
   ],
   "source": [
    "states_mean.shape"
   ]
  },
  {
   "cell_type": "code",
   "execution_count": 11,
   "id": "4070c48e-3fb2-4f8f-aede-6d959f4f563c",
   "metadata": {},
   "outputs": [
    {
     "data": {
      "text/plain": [
       "(68,)"
      ]
     },
     "execution_count": 11,
     "metadata": {},
     "output_type": "execute_result"
    }
   ],
   "source": [
    "y.shape"
   ]
  },
  {
   "cell_type": "code",
   "execution_count": 12,
   "id": "bf33e7c9-5faa-4485-ac5f-e83b1f74102e",
   "metadata": {},
   "outputs": [
    {
     "data": {
      "text/plain": [
       "[<matplotlib.lines.Line2D at 0x297a44940>]"
      ]
     },
     "execution_count": 12,
     "metadata": {},
     "output_type": "execute_result"
    },
    {
     "data": {
      "image/png": "[encoded data removed]",
      "text/plain": [
       "<Figure size 1152x576 with 1 Axes>"
      ]
     },
     "metadata": {
      "needs_background": "light"
     },
     "output_type": "display_data"
    }
   ],
   "source": [
    "fig, ax = plt.subplots(1, 1, figsize=(16, 8))\n",
    "x = np.arange(0, len(y))\n",
    "ax.scatter(x, y)\n",
    "ax.plot(x, states_mean[:-1])"
   ]
  },
  {
   "cell_type": "code",
   "execution_count": null,
   "id": "7108a32f-3afc-4449-a5ff-ed96a754996d",
   "metadata": {},
   "outputs": [],
   "source": []
  }
 ],
 "metadata": {
  "kernelspec": {
   "display_name": "pystan3",
   "language": "python",
   "name": "pystan3"
  },
  "language_info": {
   "codemirror_mode": {
    "name": "ipython",
    "version": 3
   },
   "file_extension": ".py",
   "mimetype": "text/x-python",
   "name": "python",
   "nbconvert_exporter": "python",
   "pygments_lexer": "ipython3",
   "version": "3.9.12"
  }
 },
 "nbformat": 4,
 "nbformat_minor": 5
}
