{
  "nbformat": 4,
  "nbformat_minor": 5,
  "metadata": {
    "colab": {
      "name": "orbit_m3_backtest.ipynb",
      "provenance": [],
      "collapsed_sections": [],
      "include_colab_link": true
    },
    "kernelspec": {
      "display_name": "orbit-master",
      "language": "python",
      "name": "orbit-master"
    },
    "language_info": {
      "codemirror_mode": {
        "name": "ipython",
        "version": 3
      },
      "file_extension": ".py",
      "mimetype": "text/x-python",
      "name": "python",
      "nbconvert_exporter": "python",
      "pygments_lexer": "ipython3",
      "version": "3.7.8"
    }
  },
  "cells": [
    {
      "cell_type": "markdown",
      "metadata": {
        "id": "view-in-github",
        "colab_type": "text"
      },
      "source": [
        "<a href=\"https://colab.research.google.com/github/edwinnglabs/ts-playground/blob/master/orbit_m3_backtest.ipynb\" target=\"_parent\"><img src=\"https://colab.research.google.com/assets/colab-badge.svg\" alt=\"Open In Colab\"/></a>"
      ]
    },
    {
      "cell_type": "markdown",
      "metadata": {
        "id": "994f63e1"
      },
      "source": [
        "# A Demo on Backtesting M3 with Various Models"
      ],
      "id": "994f63e1"
    },
    {
      "cell_type": "markdown",
      "metadata": {
        "id": "be2cd336"
      },
      "source": [
        "This notebook aims to\n",
        "1. provide a simple demo how to backtest models with orbit provided functions.  \n",
        "2. add transperancy how our accuracy metrics are derived in https://arxiv.org/abs/2004.08492.\n",
        "\n",
        "Due to versioning and random seed, there could be subtle difference for the final numbers. This notebook should also be available in colab."
      ],
      "id": "be2cd336"
    },
    {
      "cell_type": "code",
      "metadata": {
        "id": "2166de6a"
      },
      "source": [
        "# !pip install orbit-ml>=1.1.0\n",
        "# !pip install fbprophet==0.7.1"
      ],
      "id": "2166de6a",
      "execution_count": 1,
      "outputs": []
    },
    {
      "cell_type": "code",
      "metadata": {
        "id": "d8a85a5b"
      },
      "source": [
        "import numpy as np\n",
        "import tqdm\n",
        "import pandas as pd\n",
        "import statsmodels.api as sm\n",
        "import inspect\n",
        "import random\n",
        "import fbprophet\n",
        "from fbprophet import Prophet\n",
        "import statsmodels\n",
        "from statsmodels.tsa.statespace.sarimax import SARIMAX\n",
        "import matplotlib.pyplot as plt\n",
        "\n",
        "import orbit\n",
        "from orbit.models import DLT\n",
        "from orbit.utils.dataset import load_m3monthly\n",
        "from orbit.diagnostics.backtest import BackTester\n",
        "from orbit.diagnostics.metrics import smape"
      ],
      "id": "d8a85a5b",
      "execution_count": 2,
      "outputs": []
    },
    {
      "cell_type": "code",
      "source": [
        "print(\"orbit version: {}\\nfbprophet version: {}\\nstatsmodels version: {}\".format(\n",
        "    orbit.__version__, fbprophet.__version__, statsmodels.__version__)\n",
        ")"
      ],
      "metadata": {
        "colab": {
          "base_uri": "https://localhost:8080/"
        },
        "id": "N2tV8or4SDZU",
        "outputId": "7a700262-6f62-4887-d075-481eb957b6ec"
      },
      "id": "N2tV8or4SDZU",
      "execution_count": 3,
      "outputs": [
        {
          "output_type": "stream",
          "name": "stdout",
          "text": [
            "orbit version: 1.1.0\n",
            "fbprophet version: 0.7.1\n",
            "statsmodels version: 0.13.1\n"
          ]
        }
      ]
    },
    {
      "cell_type": "code",
      "metadata": {
        "id": "be3b8390"
      },
      "source": [
        "seed=2021\n",
        "n_sample=10\n",
        "random.seed(seed)"
      ],
      "id": "be3b8390",
      "execution_count": 4,
      "outputs": []
    },
    {
      "cell_type": "markdown",
      "metadata": {
        "id": "e394eb60"
      },
      "source": [
        "We can load the m3 dataset from orbit repository.  For demo purpose, i set `n_sample` to be `10`. Feel free to adjust it or simply run the entire dataset."
      ],
      "id": "e394eb60"
    },
    {
      "cell_type": "code",
      "metadata": {
        "colab": {
          "base_uri": "https://localhost:8080/"
        },
        "id": "3f9a81b7",
        "outputId": "3b6d7afb-d79d-4697-ce50-3897de661e92"
      },
      "source": [
        "data = load_m3monthly()\n",
        "unique_keys = data['key'].unique().tolist()\n",
        "if n_sample > 0 and n_sample < len(unique_keys):\n",
        "    sample_keys = random.sample(unique_keys, n_sample)\n",
        "    # just get the first 5 series for demo\n",
        "    data = data[data['key'].isin(sample_keys)].reset_index(drop=True)\n",
        "else:\n",
        "    sample_keys = unique_keys\n",
        "print(sample_keys)"
      ],
      "id": "3f9a81b7",
      "execution_count": 5,
      "outputs": [
        {
          "output_type": "stream",
          "name": "stdout",
          "text": [
            "['N2229', 'N2691', 'N2516', 'N1968', 'N1908', 'N2702', 'N1472', 'N2310', 'N2372', 'N2578']\n"
          ]
        }
      ]
    },
    {
      "cell_type": "code",
      "metadata": {
        "colab": {
          "base_uri": "https://localhost:8080/"
        },
        "id": "21b41737",
        "outputId": "a444be0d-8f1f-43a4-a991-d48a6e740062"
      },
      "source": [
        "data.dtypes"
      ],
      "id": "21b41737",
      "execution_count": 6,
      "outputs": [
        {
          "output_type": "execute_result",
          "data": {
            "text/plain": [
              "key              object\n",
              "value           float64\n",
              "date     datetime64[ns]\n",
              "dtype: object"
            ]
          },
          "metadata": {},
          "execution_count": 6
        }
      ]
    },
    {
      "cell_type": "markdown",
      "metadata": {
        "id": "45dd86cb"
      },
      "source": [
        "We need to provide some meta data such as date column, response column etc."
      ],
      "id": "45dd86cb"
    },
    {
      "cell_type": "code",
      "metadata": {
        "id": "8831518f"
      },
      "source": [
        "key_col='key'\n",
        "response_col='value'\n",
        "date_col='date'\n",
        "seasonality=12"
      ],
      "id": "8831518f",
      "execution_count": 7,
      "outputs": []
    },
    {
      "cell_type": "markdown",
      "metadata": {
        "id": "351f226e"
      },
      "source": [
        "We also provide some setting mimic M3 (see https://forecasters.org/resources/time-series-data/m3-competition/) criteria."
      ],
      "id": "351f226e"
    },
    {
      "cell_type": "code",
      "metadata": {
        "id": "7dab9ec7"
      },
      "source": [
        "backtest_args = {\n",
        "    'min_train_len': 1, # not useful; a placeholder\n",
        "    'incremental_len': 18,  # not useful; a placeholder\n",
        "    'forecast_len': 18,\n",
        "    'n_splits': 1,\n",
        "    'window_type': \"expanding\",\n",
        "}"
      ],
      "id": "7dab9ec7",
      "execution_count": 8,
      "outputs": []
    },
    {
      "cell_type": "markdown",
      "metadata": {
        "id": "40f2411e"
      },
      "source": [
        "We are using `DLT` here.  To use a multiplicative form, we create a wrapper to performm natural log transformation of response.  We also create wrapper for `prophet` and `sarima` for signature prupose.\n",
        "Note that prophet comes with its own multiplicative form."
      ],
      "id": "40f2411e"
    },
    {
      "cell_type": "code",
      "metadata": {
        "id": "ac574fc4"
      },
      "source": [
        "class DLTMAPWrapper(object):\n",
        "    def __init__(self, response_col, date_col, **kwargs):\n",
        "        kw_params = locals()['kwargs']\n",
        "        for key, value in kw_params.items():\n",
        "            setattr(self, key, value)\n",
        "        self.response_col = response_col\n",
        "        self.date_col = date_col\n",
        "        self.model = DLT(\n",
        "            response_col=response_col,\n",
        "            date_col=date_col,\n",
        "            estimator='stan-map',\n",
        "            **kwargs)\n",
        "\n",
        "    def fit(self, df):\n",
        "        df = df.copy()\n",
        "        df[[self.response_col]] = df[[self.response_col]].apply(np.log1p)\n",
        "        self.model.fit(df)\n",
        "\n",
        "    def predict(self, df):\n",
        "        df = df.copy()\n",
        "        pred_df = self.model.predict(df)\n",
        "        pred_df['prediction'] = np.clip(np.expm1(pred_df['prediction']).values, 0, None)\n",
        "        return pred_df"
      ],
      "id": "ac574fc4",
      "execution_count": 9,
      "outputs": []
    },
    {
      "cell_type": "code",
      "metadata": {
        "id": "1d0ac828"
      },
      "source": [
        "class SARIMAXWrapper(object):\n",
        "    def __init__(self, response_col, date_col, **kwargs):\n",
        "        kw_params = locals()['kwargs']\n",
        "        for key, value in kw_params.items():\n",
        "            setattr(self, key, value)\n",
        "        self.response_col = response_col\n",
        "        self.date_col = date_col\n",
        "        self.model = None\n",
        "        self.df = None\n",
        "\n",
        "    def fit(self, df):\n",
        "\n",
        "        df_copy = df.copy()\n",
        "        infer_freq = pd.infer_freq(df_copy[self.date_col])\n",
        "        df_copy = df_copy.set_index(self.date_col)\n",
        "        df_copy = df_copy.asfreq(infer_freq)\n",
        "        endog = df_copy[self.response_col]\n",
        "        sig = inspect.signature(SARIMAX)\n",
        "        all_params = dict()\n",
        "        for key in sig.parameters.keys():\n",
        "            if hasattr(self, key):\n",
        "                all_params[key] = getattr(self, key)\n",
        "        self.df = df_copy\n",
        "        self.model = SARIMAX(endog=endog, **all_params).fit(disp=False)\n",
        "\n",
        "    def predict(self, df, **kwargs):\n",
        "        df_copy = df.copy()\n",
        "        infer_freq = pd.infer_freq(df_copy[self.date_col])\n",
        "        df_copy = df_copy.set_index(self.date_col)\n",
        "        df_copy = df_copy.asfreq(infer_freq)\n",
        "\n",
        "        pred_array = np.array(self.model.predict(start=df_copy.index[0],\n",
        "                                                 end=df_copy.index[-1],\n",
        "                                                 **kwargs))\n",
        "\n",
        "        out = pd.DataFrame({\n",
        "            self.date_col: df[self.date_col],\n",
        "            'prediction': pred_array\n",
        "        })\n",
        "        return out"
      ],
      "id": "1d0ac828",
      "execution_count": 10,
      "outputs": []
    },
    {
      "cell_type": "code",
      "metadata": {
        "id": "7b03a8c3"
      },
      "source": [
        "class ProphetWrapper(object):\n",
        "    def __init__(self, response_col, date_col, **kwargs):\n",
        "        kw_params = locals()['kwargs']\n",
        "        for key, value in kw_params.items():\n",
        "            setattr(self, key, value)\n",
        "        self.response_col = response_col\n",
        "        self.date_col = date_col\n",
        "        self.model = None\n",
        "\n",
        "    def fit(self, df):\n",
        "        sig = inspect.signature(Prophet)\n",
        "        all_params = dict()\n",
        "        for key in sig.parameters.keys():\n",
        "            if hasattr(self, key):\n",
        "                all_params[key] = getattr(self, key)\n",
        "        self.model = Prophet(**all_params)\n",
        "\n",
        "        train_df = df.copy()\n",
        "        train_df = train_df.rename(columns={self.date_col: \"ds\", self.response_col: \"y\"})\n",
        "        self.model.fit(train_df)\n",
        "\n",
        "    def predict(self, df):\n",
        "        df = df.copy()\n",
        "        df = df.rename(columns={self.date_col: \"ds\"})\n",
        "        pred_df = self.model.predict(df)\n",
        "        pred_df = pred_df.rename(columns={'yhat': 'prediction', 'ds': self.date_col})\n",
        "        pred_df = pred_df[[self.date_col, 'prediction']]\n",
        "        return pred_df"
      ],
      "id": "7b03a8c3",
      "execution_count": 11,
      "outputs": []
    },
    {
      "cell_type": "markdown",
      "metadata": {
        "id": "d6bc1dfc"
      },
      "source": [
        "Declare model objects and run backtest. Score shows in the end."
      ],
      "id": "d6bc1dfc"
    },
    {
      "cell_type": "code",
      "metadata": {
        "id": "db00bc70"
      },
      "source": [
        "dlt = DLTMAPWrapper(\n",
        "    response_col=response_col,\n",
        "    date_col=date_col,\n",
        "    seasonality=seasonality,\n",
        "    seed=seed,\n",
        ")\n",
        "\n",
        "sarima = SARIMAXWrapper(\n",
        "    response_col=response_col,\n",
        "    date_col=date_col,\n",
        "    seasonality=seasonality,\n",
        "    seed=seed,\n",
        ")\n",
        "\n",
        "prophet = ProphetWrapper(\n",
        "    response_col=response_col,\n",
        "    date_col=date_col,\n",
        ")"
      ],
      "id": "db00bc70",
      "execution_count": 12,
      "outputs": []
    },
    {
      "cell_type": "code",
      "metadata": {
        "colab": {
          "base_uri": "https://localhost:8080/"
        },
        "id": "13f984c2",
        "outputId": "8e6a55e9-2dfe-4756-a115-da914d9cae5c"
      },
      "source": [
        "all_scores = []\n",
        "\n",
        "for key in tqdm.tqdm(sample_keys):\n",
        "    # dlt\n",
        "    df = data[data[key_col] == key]\n",
        "    bt = BackTester(\n",
        "        model=dlt,\n",
        "        df=df,\n",
        "        **backtest_args,\n",
        "    )\n",
        "    bt.fit_predict()\n",
        "    scores_df = bt.score(metrics=[smape])\n",
        "    scores_df[key_col] = key\n",
        "    scores_df['model'] = 'dlt'\n",
        "    all_scores.append(scores_df)\n",
        "    # sarima\n",
        "    df = data[data[key_col] == key]\n",
        "    bt = BackTester(\n",
        "        model=sarima,\n",
        "        df=df,\n",
        "        **backtest_args,\n",
        "    )\n",
        "    bt.fit_predict()\n",
        "    scores_df = bt.score(metrics=[smape])\n",
        "    scores_df[key_col] = key\n",
        "    scores_df['model'] = 'sarima'\n",
        "    all_scores.append(scores_df)\n",
        "    # prophet\n",
        "    df = data[data[key_col] == key]\n",
        "    bt = BackTester(\n",
        "        model=prophet,\n",
        "        df=df,\n",
        "        **backtest_args,\n",
        "    )\n",
        "    bt.fit_predict()\n",
        "    scores_df = bt.score(metrics=[smape])\n",
        "    scores_df[key_col] = key\n",
        "    scores_df['model'] = 'prophet'\n",
        "    all_scores.append(scores_df)\n",
        "\n",
        "\n",
        "all_scores = pd.concat(all_scores, axis=0, ignore_index=True)"
      ],
      "id": "13f984c2",
      "execution_count": 13,
      "outputs": [
        {
          "output_type": "stream",
          "name": "stderr",
          "text": [
            "\r  0%|          | 0/10 [00:00<?, ?it/s]/usr/local/lib/python3.7/dist-packages/statsmodels/tsa/statespace/sarimax.py:966: UserWarning:\n",
            "\n",
            "Non-stationary starting autoregressive parameters found. Using zeros as starting parameters.\n",
            "\n",
            "INFO:numexpr.utils:NumExpr defaulting to 2 threads.\n",
            "INFO:fbprophet:Disabling weekly seasonality. Run prophet with weekly_seasonality=True to override this.\n",
            "INFO:fbprophet:Disabling daily seasonality. Run prophet with daily_seasonality=True to override this.\n",
            " 10%|█         | 1/10 [00:03<00:31,  3.51s/it]/usr/local/lib/python3.7/dist-packages/statsmodels/tsa/statespace/sarimax.py:966: UserWarning:\n",
            "\n",
            "Non-stationary starting autoregressive parameters found. Using zeros as starting parameters.\n",
            "\n",
            "INFO:fbprophet:Disabling weekly seasonality. Run prophet with weekly_seasonality=True to override this.\n",
            "INFO:fbprophet:Disabling daily seasonality. Run prophet with daily_seasonality=True to override this.\n",
            " 20%|██        | 2/10 [00:07<00:29,  3.68s/it]INFO:fbprophet:Disabling weekly seasonality. Run prophet with weekly_seasonality=True to override this.\n",
            "INFO:fbprophet:Disabling daily seasonality. Run prophet with daily_seasonality=True to override this.\n",
            " 30%|███       | 3/10 [00:10<00:25,  3.60s/it]INFO:fbprophet:Disabling weekly seasonality. Run prophet with weekly_seasonality=True to override this.\n",
            "INFO:fbprophet:Disabling daily seasonality. Run prophet with daily_seasonality=True to override this.\n",
            " 40%|████      | 4/10 [00:14<00:20,  3.45s/it]INFO:fbprophet:Disabling weekly seasonality. Run prophet with weekly_seasonality=True to override this.\n",
            "INFO:fbprophet:Disabling daily seasonality. Run prophet with daily_seasonality=True to override this.\n",
            " 50%|█████     | 5/10 [00:17<00:16,  3.37s/it]/usr/local/lib/python3.7/dist-packages/statsmodels/tsa/statespace/sarimax.py:966: UserWarning:\n",
            "\n",
            "Non-stationary starting autoregressive parameters found. Using zeros as starting parameters.\n",
            "\n",
            "INFO:fbprophet:Disabling weekly seasonality. Run prophet with weekly_seasonality=True to override this.\n",
            "INFO:fbprophet:Disabling daily seasonality. Run prophet with daily_seasonality=True to override this.\n",
            " 60%|██████    | 6/10 [00:20<00:13,  3.43s/it]INFO:fbprophet:Disabling weekly seasonality. Run prophet with weekly_seasonality=True to override this.\n",
            "INFO:fbprophet:Disabling daily seasonality. Run prophet with daily_seasonality=True to override this.\n",
            " 70%|███████   | 7/10 [00:24<00:10,  3.56s/it]/usr/local/lib/python3.7/dist-packages/statsmodels/tsa/statespace/sarimax.py:966: UserWarning:\n",
            "\n",
            "Non-stationary starting autoregressive parameters found. Using zeros as starting parameters.\n",
            "\n",
            "INFO:fbprophet:Disabling weekly seasonality. Run prophet with weekly_seasonality=True to override this.\n",
            "INFO:fbprophet:Disabling daily seasonality. Run prophet with daily_seasonality=True to override this.\n",
            " 80%|████████  | 8/10 [00:28<00:07,  3.51s/it]/usr/local/lib/python3.7/dist-packages/statsmodels/tsa/statespace/sarimax.py:966: UserWarning:\n",
            "\n",
            "Non-stationary starting autoregressive parameters found. Using zeros as starting parameters.\n",
            "\n",
            "INFO:fbprophet:Disabling weekly seasonality. Run prophet with weekly_seasonality=True to override this.\n",
            "INFO:fbprophet:Disabling daily seasonality. Run prophet with daily_seasonality=True to override this.\n",
            " 90%|█████████ | 9/10 [00:31<00:03,  3.44s/it]INFO:fbprophet:Disabling weekly seasonality. Run prophet with weekly_seasonality=True to override this.\n",
            "INFO:fbprophet:Disabling daily seasonality. Run prophet with daily_seasonality=True to override this.\n",
            "100%|██████████| 10/10 [00:34<00:00,  3.45s/it]\n"
          ]
        }
      ]
    },
    {
      "cell_type": "code",
      "metadata": {
        "colab": {
          "base_uri": "https://localhost:8080/",
          "height": 143
        },
        "id": "1ac520a5",
        "outputId": "0f5b85db-302c-4b73-cde1-bd0f186a38f9"
      },
      "source": [
        "all_scores.groupby('model')['metric_values'].apply(np.mean).reset_index()"
      ],
      "id": "1ac520a5",
      "execution_count": 14,
      "outputs": [
        {
          "output_type": "execute_result",
          "data": {
            "text/html": [
              "\n",
              "  <div id=\"df-dd98968e-6193-4021-b746-cf16c1614bd8\">\n",
              "    <div class=\"colab-df-container\">\n",
              "      <div>\n",
              "<style scoped>\n",
              "    .dataframe tbody tr th:only-of-type {\n",
              "        vertical-align: middle;\n",
              "    }\n",
              "\n",
              "    .dataframe tbody tr th {\n",
              "        vertical-align: top;\n",
              "    }\n",
              "\n",
              "    .dataframe thead th {\n",
              "        text-align: right;\n",
              "    }\n",
              "</style>\n",
              "<table border=\"1\" class=\"dataframe\">\n",
              "  <thead>\n",
              "    <tr style=\"text-align: right;\">\n",
              "      <th></th>\n",
              "      <th>model</th>\n",
              "      <th>metric_values</th>\n",
              "    </tr>\n",
              "  </thead>\n",
              "  <tbody>\n",
              "    <tr>\n",
              "      <th>0</th>\n",
              "      <td>dlt</td>\n",
              "      <td>0.056136</td>\n",
              "    </tr>\n",
              "    <tr>\n",
              "      <th>1</th>\n",
              "      <td>prophet</td>\n",
              "      <td>0.111940</td>\n",
              "    </tr>\n",
              "    <tr>\n",
              "      <th>2</th>\n",
              "      <td>sarima</td>\n",
              "      <td>0.097403</td>\n",
              "    </tr>\n",
              "  </tbody>\n",
              "</table>\n",
              "</div>\n",
              "      <button class=\"colab-df-convert\" onclick=\"convertToInteractive('df-dd98968e-6193-4021-b746-cf16c1614bd8')\"\n",
              "              title=\"Convert this dataframe to an interactive table.\"\n",
              "              style=\"display:none;\">\n",
              "        \n",
              "  <svg xmlns=\"http://www.w3.org/2000/svg\" height=\"24px\"viewBox=\"0 0 24 24\"\n",
              "       width=\"24px\">\n",
              "    <path d=\"M0 0h24v24H0V0z\" fill=\"none\"/>\n",
              "    <path d=\"M18.56 5.44l.94 2.06.94-2.06 2.06-.94-2.06-.94-.94-2.06-.94 2.06-2.06.94zm-11 1L8.5 8.5l.94-2.06 2.06-.94-2.06-.94L8.5 2.5l-.94 2.06-2.06.94zm10 10l.94 2.06.94-2.06 2.06-.94-2.06-.94-.94-2.06-.94 2.06-2.06.94z\"/><path d=\"M17.41 7.96l-1.37-1.37c-.4-.4-.92-.59-1.43-.59-.52 0-1.04.2-1.43.59L10.3 9.45l-7.72 7.72c-.78.78-.78 2.05 0 2.83L4 21.41c.39.39.9.59 1.41.59.51 0 1.02-.2 1.41-.59l7.78-7.78 2.81-2.81c.8-.78.8-2.07 0-2.86zM5.41 20L4 18.59l7.72-7.72 1.47 1.35L5.41 20z\"/>\n",
              "  </svg>\n",
              "      </button>\n",
              "      \n",
              "  <style>\n",
              "    .colab-df-container {\n",
              "      display:flex;\n",
              "      flex-wrap:wrap;\n",
              "      gap: 12px;\n",
              "    }\n",
              "\n",
              "    .colab-df-convert {\n",
              "      background-color: #E8F0FE;\n",
              "      border: none;\n",
              "      border-radius: 50%;\n",
              "      cursor: pointer;\n",
              "      display: none;\n",
              "      fill: #1967D2;\n",
              "      height: 32px;\n",
              "      padding: 0 0 0 0;\n",
              "      width: 32px;\n",
              "    }\n",
              "\n",
              "    .colab-df-convert:hover {\n",
              "      background-color: #E2EBFA;\n",
              "      box-shadow: 0px 1px 2px rgba(60, 64, 67, 0.3), 0px 1px 3px 1px rgba(60, 64, 67, 0.15);\n",
              "      fill: #174EA6;\n",
              "    }\n",
              "\n",
              "    [theme=dark] .colab-df-convert {\n",
              "      background-color: #3B4455;\n",
              "      fill: #D2E3FC;\n",
              "    }\n",
              "\n",
              "    [theme=dark] .colab-df-convert:hover {\n",
              "      background-color: #434B5C;\n",
              "      box-shadow: 0px 1px 3px 1px rgba(0, 0, 0, 0.15);\n",
              "      filter: drop-shadow(0px 1px 2px rgba(0, 0, 0, 0.3));\n",
              "      fill: #FFFFFF;\n",
              "    }\n",
              "  </style>\n",
              "\n",
              "      <script>\n",
              "        const buttonEl =\n",
              "          document.querySelector('#df-dd98968e-6193-4021-b746-cf16c1614bd8 button.colab-df-convert');\n",
              "        buttonEl.style.display =\n",
              "          google.colab.kernel.accessAllowed ? 'block' : 'none';\n",
              "\n",
              "        async function convertToInteractive(key) {\n",
              "          const element = document.querySelector('#df-dd98968e-6193-4021-b746-cf16c1614bd8');\n",
              "          const dataTable =\n",
              "            await google.colab.kernel.invokeFunction('convertToInteractive',\n",
              "                                                     [key], {});\n",
              "          if (!dataTable) return;\n",
              "\n",
              "          const docLinkHtml = 'Like what you see? Visit the ' +\n",
              "            '<a target=\"_blank\" href=https://colab.research.google.com/notebooks/data_table.ipynb>data table notebook</a>'\n",
              "            + ' to learn more about interactive tables.';\n",
              "          element.innerHTML = '';\n",
              "          dataTable['output_type'] = 'display_data';\n",
              "          await google.colab.output.renderOutput(dataTable, element);\n",
              "          const docLink = document.createElement('div');\n",
              "          docLink.innerHTML = docLinkHtml;\n",
              "          element.appendChild(docLink);\n",
              "        }\n",
              "      </script>\n",
              "    </div>\n",
              "  </div>\n",
              "  "
            ],
            "text/plain": [
              "     model  metric_values\n",
              "0      dlt       0.056136\n",
              "1  prophet       0.111940\n",
              "2   sarima       0.097403"
            ]
          },
          "metadata": {},
          "execution_count": 14
        }
      ]
    }
  ]
}