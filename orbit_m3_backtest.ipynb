{
  "nbformat": 4,
  "nbformat_minor": 5,
  "metadata": {
    "colab": {
      "name": "orbit_m3_backtest.ipynb",
      "provenance": [],
      "collapsed_sections": [],
      "include_colab_link": true
    },
    "kernelspec": {
      "display_name": "orbit-master",
      "language": "python",
      "name": "orbit-master"
    },
    "language_info": {
      "codemirror_mode": {
        "name": "ipython",
        "version": 3
      },
      "file_extension": ".py",
      "mimetype": "text/x-python",
      "name": "python",
      "nbconvert_exporter": "python",
      "pygments_lexer": "ipython3",
      "version": "3.7.8"
    }
  },
  "cells": [
    {
      "cell_type": "markdown",
      "metadata": {
        "id": "view-in-github",
        "colab_type": "text"
      },
      "source": [
        "<a href=\"https://colab.research.google.com/github/edwinnglabs/ts_playground/blob/main/orbit_m3_backtest.ipynb\" target=\"_parent\"><img src=\"https://colab.research.google.com/assets/colab-badge.svg\" alt=\"Open In Colab\"/></a>"
      ]
    },
    {
      "cell_type": "markdown",
      "metadata": {
        "id": "994f63e1"
      },
      "source": [
        "# A Demo on Backtesting M3 with Various Models"
      ],
      "id": "994f63e1"
    },
    {
      "cell_type": "markdown",
      "metadata": {
        "id": "be2cd336"
      },
      "source": [
        "This notebook aims to\n",
        "1. provide a simple demo how to backtest models with orbit provided functions.  \n",
        "2. add transperancy how our accuracy metrics are derived in https://arxiv.org/abs/2004.08492.\n",
        "\n",
        "Due to versioning and random seed, there could be subtle difference for the final numbers. This notebook should also be available in colab."
      ],
      "id": "be2cd336"
    },
    {
      "cell_type": "code",
      "metadata": {
        "id": "2166de6a"
      },
      "source": [
        "# !pip install git+https://github.com/uber/orbit.git@dev\n",
        "# !pip install fbprophet==0.7.1"
      ],
      "id": "2166de6a",
      "execution_count": 18,
      "outputs": []
    },
    {
      "cell_type": "code",
      "metadata": {
        "id": "d8a85a5b"
      },
      "source": [
        "import numpy as np\n",
        "import tqdm\n",
        "import pandas as pd\n",
        "import statsmodels.api as sm\n",
        "import inspect\n",
        "import random\n",
        "import fbprophet\n",
        "from fbprophet import Prophet\n",
        "from statsmodels.tsa.statespace.sarimax import SARIMAX\n",
        "\n",
        "import orbit\n",
        "from orbit.models import DLT\n",
        "from orbit.utils.dataset import load_m3monthly\n",
        "from orbit.diagnostics.backtest import BackTester\n",
        "from orbit.diagnostics.metrics import smape"
      ],
      "id": "d8a85a5b",
      "execution_count": 4,
      "outputs": []
    },
    {
      "cell_type": "code",
      "metadata": {
        "id": "niYwf8fWVEC9"
      },
      "source": [
        "assert orbit.__version__ == '1.1.0dev'\n",
        "assert fbprophet.__version__ == '0.7.1'"
      ],
      "id": "niYwf8fWVEC9",
      "execution_count": 7,
      "outputs": []
    },
    {
      "cell_type": "code",
      "metadata": {
        "id": "be3b8390"
      },
      "source": [
        "seed=2021\n",
        "n_sample=10\n",
        "random.seed(seed)"
      ],
      "id": "be3b8390",
      "execution_count": 8,
      "outputs": []
    },
    {
      "cell_type": "markdown",
      "metadata": {
        "id": "e394eb60"
      },
      "source": [
        "We can load the m3 dataset from orbit repository.  For demo purpose, i set `n_sample` to be `10`. Feel free to adjust it or simply run the entire dataset."
      ],
      "id": "e394eb60"
    },
    {
      "cell_type": "code",
      "metadata": {
        "colab": {
          "base_uri": "https://localhost:8080/"
        },
        "id": "3f9a81b7",
        "outputId": "d046ca08-cda5-4248-cbd6-f9cc1c93b4c1"
      },
      "source": [
        "data = load_m3monthly()\n",
        "unique_keys = data['key'].unique().tolist()\n",
        "if n_sample > 0 and n_sample < len(unique_keys):\n",
        "    sample_keys = random.sample(unique_keys, n_sample)\n",
        "    # just get the first 5 series for demo\n",
        "    data = data[data['key'].isin(sample_keys)].reset_index(drop=True)\n",
        "else:\n",
        "    sample_keys = unique_keys\n",
        "print(sample_keys)"
      ],
      "id": "3f9a81b7",
      "execution_count": 9,
      "outputs": [
        {
          "output_type": "stream",
          "name": "stdout",
          "text": [
            "['N2229', 'N2691', 'N2516', 'N1968', 'N1908', 'N2702', 'N1472', 'N2310', 'N2372', 'N2578']\n"
          ]
        }
      ]
    },
    {
      "cell_type": "code",
      "metadata": {
        "colab": {
          "base_uri": "https://localhost:8080/"
        },
        "id": "21b41737",
        "outputId": "78630495-b3bb-478e-fe05-f258f9e57e2b"
      },
      "source": [
        "data.columns"
      ],
      "id": "21b41737",
      "execution_count": 10,
      "outputs": [
        {
          "output_type": "execute_result",
          "data": {
            "text/plain": [
              "Index(['key', 'value', 'date'], dtype='object')"
            ]
          },
          "metadata": {},
          "execution_count": 10
        }
      ]
    },
    {
      "cell_type": "markdown",
      "metadata": {
        "id": "45dd86cb"
      },
      "source": [
        "We need to provide some meta data such as date column, response column etc."
      ],
      "id": "45dd86cb"
    },
    {
      "cell_type": "code",
      "metadata": {
        "id": "8831518f"
      },
      "source": [
        "key_col='key'\n",
        "response_col='value'\n",
        "date_col='date'\n",
        "seasonality=12"
      ],
      "id": "8831518f",
      "execution_count": 11,
      "outputs": []
    },
    {
      "cell_type": "markdown",
      "metadata": {
        "id": "351f226e"
      },
      "source": [
        "We also provide some setting mimic M3 (see https://forecasters.org/resources/time-series-data/m3-competition/) criteria."
      ],
      "id": "351f226e"
    },
    {
      "cell_type": "code",
      "metadata": {
        "id": "7dab9ec7"
      },
      "source": [
        "backtest_args = {\n",
        "    'min_train_len': 1, # not useful; a placeholder\n",
        "    'incremental_len': 18,  # not useful; a placeholder\n",
        "    'forecast_len': 18,\n",
        "    'n_splits': 1,\n",
        "    'window_type': \"expanding\",\n",
        "}"
      ],
      "id": "7dab9ec7",
      "execution_count": 12,
      "outputs": []
    },
    {
      "cell_type": "markdown",
      "metadata": {
        "id": "40f2411e"
      },
      "source": [
        "We are using `DLT` here.  To use a multiplicative form, we create a wrapper to performm natural log transformation of response.  We also create wrapper for `prophet` and `sarima` for signature prupose.\n",
        "Note that prophet comes with its own multiplicative form."
      ],
      "id": "40f2411e"
    },
    {
      "cell_type": "code",
      "metadata": {
        "id": "ac574fc4"
      },
      "source": [
        "class DLTMAPWrapper(object):\n",
        "    def __init__(self, response_col, date_col, **kwargs):\n",
        "        kw_params = locals()['kwargs']\n",
        "        for key, value in kw_params.items():\n",
        "            setattr(self, key, value)\n",
        "        self.response_col = response_col\n",
        "        self.date_col = date_col\n",
        "        self.model = DLT(\n",
        "            response_col=response_col,\n",
        "            date_col=date_col,\n",
        "            estimator='stan-map',\n",
        "            **kwargs)\n",
        "\n",
        "    def fit(self, df):\n",
        "        df = df.copy()\n",
        "        df[[self.response_col]] = df[[self.response_col]].apply(np.log1p)\n",
        "        self.model.fit(df)\n",
        "\n",
        "    def predict(self, df):\n",
        "        df = df.copy()\n",
        "        pred_df = self.model.predict(df)\n",
        "        pred_df['prediction'] = np.clip(np.expm1(pred_df['prediction']).values, 0, None)\n",
        "        return pred_df"
      ],
      "id": "ac574fc4",
      "execution_count": 13,
      "outputs": []
    },
    {
      "cell_type": "code",
      "metadata": {
        "id": "1d0ac828"
      },
      "source": [
        "class SARIMAXWrapper(object):\n",
        "    def __init__(self, response_col, date_col, **kwargs):\n",
        "        kw_params = locals()['kwargs']\n",
        "        for key, value in kw_params.items():\n",
        "            setattr(self, key, value)\n",
        "        self.response_col = response_col\n",
        "        self.date_col = date_col\n",
        "        self.model = None\n",
        "        self.df = None\n",
        "\n",
        "    def fit(self, df):\n",
        "\n",
        "        df_copy = df.copy()\n",
        "        infer_freq = pd.infer_freq(df_copy[self.date_col])\n",
        "        df_copy = df_copy.set_index(self.date_col)\n",
        "        df_copy = df_copy.asfreq(infer_freq)\n",
        "        endog = df_copy[self.response_col]\n",
        "        sig = inspect.signature(SARIMAX)\n",
        "        all_params = dict()\n",
        "        for key in sig.parameters.keys():\n",
        "            if hasattr(self, key):\n",
        "                all_params[key] = getattr(self, key)\n",
        "        self.df = df_copy\n",
        "        self.model = SARIMAX(endog=endog, **all_params).fit(disp=False)\n",
        "\n",
        "    def predict(self, df, **kwargs):\n",
        "        df_copy = df.copy()\n",
        "        infer_freq = pd.infer_freq(df_copy[self.date_col])\n",
        "        df_copy = df_copy.set_index(self.date_col)\n",
        "        df_copy = df_copy.asfreq(infer_freq)\n",
        "\n",
        "        pred_array = np.array(self.model.predict(start=df_copy.index[0],\n",
        "                                                 end=df_copy.index[-1],\n",
        "                                                 **kwargs))\n",
        "\n",
        "        out = pd.DataFrame({\n",
        "            self.date_col: df[self.date_col],\n",
        "            'prediction': pred_array\n",
        "        })\n",
        "        return out"
      ],
      "id": "1d0ac828",
      "execution_count": 14,
      "outputs": []
    },
    {
      "cell_type": "code",
      "metadata": {
        "id": "7b03a8c3"
      },
      "source": [
        "class ProphetWrapper(object):\n",
        "    def __init__(self, response_col, date_col, **kwargs):\n",
        "        kw_params = locals()['kwargs']\n",
        "        for key, value in kw_params.items():\n",
        "            setattr(self, key, value)\n",
        "        self.response_col = response_col\n",
        "        self.date_col = date_col\n",
        "        self.model = Prophet(**kwargs)\n",
        "\n",
        "    def fit(self, df):\n",
        "        sig = inspect.signature(Prophet)\n",
        "        all_params = dict()\n",
        "        for key in sig.parameters.keys():\n",
        "            if hasattr(self, key):\n",
        "                all_params[key] = getattr(self, key)\n",
        "        object_type = type(self.model)\n",
        "        self.model = object_type(**all_params)\n",
        "\n",
        "        train_df = df.copy()\n",
        "        train_df = train_df.rename(columns={self.date_col: \"ds\", self.response_col: \"y\"})\n",
        "        self.model.fit(train_df)\n",
        "\n",
        "    def predict(self, df):\n",
        "        df = df.copy()\n",
        "        df = df.rename(columns={self.date_col: \"ds\"})\n",
        "        pred_df = self.model.predict(df)\n",
        "        pred_df = pred_df.rename(columns={'yhat': 'prediction', 'ds': self.date_col})\n",
        "        pred_df = pred_df[[self.date_col, 'prediction']]\n",
        "        return pred_df"
      ],
      "id": "7b03a8c3",
      "execution_count": 15,
      "outputs": []
    },
    {
      "cell_type": "markdown",
      "metadata": {
        "id": "d6bc1dfc"
      },
      "source": [
        "Declare model objects and run backtest. Score shows in the end."
      ],
      "id": "d6bc1dfc"
    },
    {
      "cell_type": "code",
      "metadata": {
        "id": "db00bc70"
      },
      "source": [
        "dlt = DLTMAPWrapper(\n",
        "    response_col=response_col,\n",
        "    date_col=date_col,\n",
        "    seasonality=seasonality,\n",
        "    seed=seed,\n",
        ")\n",
        "\n",
        "sarima = SARIMAXWrapper(\n",
        "    response_col=response_col,\n",
        "    date_col=date_col,\n",
        "    seasonality=seasonality,\n",
        "    seed=seed,\n",
        ")\n",
        "\n",
        "prophet = ProphetWrapper(\n",
        "    response_col=response_col,\n",
        "    date_col=date_col,\n",
        ")"
      ],
      "id": "db00bc70",
      "execution_count": 16,
      "outputs": []
    },
    {
      "cell_type": "code",
      "metadata": {
        "colab": {
          "base_uri": "https://localhost:8080/"
        },
        "id": "13f984c2",
        "outputId": "36996d0c-1076-4375-8997-0c934936f171"
      },
      "source": [
        "all_scores = []\n",
        "\n",
        "for key in tqdm.tqdm(sample_keys):\n",
        "    # dlt\n",
        "    df = data[data[key_col] == key]\n",
        "    bt = BackTester(\n",
        "        model=dlt,\n",
        "        df=df,\n",
        "        **backtest_args,\n",
        "    )\n",
        "    bt.fit_predict()\n",
        "    scores_df = bt.score(metrics=[smape])\n",
        "    scores_df[key_col] = key\n",
        "    scores_df['model'] = 'dlt'\n",
        "    all_scores.append(scores_df)\n",
        "    # sarima\n",
        "    df = data[data[key_col] == key]\n",
        "    bt = BackTester(\n",
        "        model=sarima,\n",
        "        df=df,\n",
        "        **backtest_args,\n",
        "    )\n",
        "    bt.fit_predict()\n",
        "    scores_df = bt.score(metrics=[smape])\n",
        "    scores_df[key_col] = key\n",
        "    scores_df['model'] = 'sarima'\n",
        "    all_scores.append(scores_df)\n",
        "    # prophet\n",
        "    df = data[data[key_col] == key]\n",
        "    bt = BackTester(\n",
        "        model=prophet,\n",
        "        df=df,\n",
        "        **backtest_args,\n",
        "    )\n",
        "    bt.fit_predict()\n",
        "    scores_df = bt.score(metrics=[smape])\n",
        "    scores_df[key_col] = key\n",
        "    scores_df['model'] = 'prophet'\n",
        "    all_scores.append(scores_df)\n",
        "\n",
        "\n",
        "all_scores = pd.concat(all_scores, axis=0, ignore_index=True)"
      ],
      "id": "13f984c2",
      "execution_count": 17,
      "outputs": [
        {
          "output_type": "stream",
          "name": "stderr",
          "text": [
            "\r  0%|          | 0/10 [00:00<?, ?it/s]INFO:pystan:COMPILING THE C++ CODE FOR MODEL anon_model_b0a449c7523386cce384e92a998e71c8 NOW.\n",
            "/usr/local/lib/python3.7/dist-packages/statsmodels/tsa/statespace/sarimax.py:966: UserWarning:\n",
            "\n",
            "Non-stationary starting autoregressive parameters found. Using zeros as starting parameters.\n",
            "\n",
            "INFO:numexpr.utils:NumExpr defaulting to 2 threads.\n",
            "INFO:fbprophet:Disabling weekly seasonality. Run prophet with weekly_seasonality=True to override this.\n",
            "INFO:fbprophet:Disabling daily seasonality. Run prophet with daily_seasonality=True to override this.\n",
            " 10%|█         | 1/10 [01:27<13:05, 87.26s/it]/usr/local/lib/python3.7/dist-packages/statsmodels/tsa/statespace/sarimax.py:966: UserWarning:\n",
            "\n",
            "Non-stationary starting autoregressive parameters found. Using zeros as starting parameters.\n",
            "\n",
            "INFO:fbprophet:Disabling weekly seasonality. Run prophet with weekly_seasonality=True to override this.\n",
            "INFO:fbprophet:Disabling daily seasonality. Run prophet with daily_seasonality=True to override this.\n",
            " 20%|██        | 2/10 [01:32<05:11, 38.91s/it]INFO:fbprophet:Disabling weekly seasonality. Run prophet with weekly_seasonality=True to override this.\n",
            "INFO:fbprophet:Disabling daily seasonality. Run prophet with daily_seasonality=True to override this.\n",
            " 30%|███       | 3/10 [01:36<02:41, 23.07s/it]INFO:fbprophet:Disabling weekly seasonality. Run prophet with weekly_seasonality=True to override this.\n",
            "INFO:fbprophet:Disabling daily seasonality. Run prophet with daily_seasonality=True to override this.\n",
            " 40%|████      | 4/10 [01:40<01:33, 15.50s/it]INFO:fbprophet:Disabling weekly seasonality. Run prophet with weekly_seasonality=True to override this.\n",
            "INFO:fbprophet:Disabling daily seasonality. Run prophet with daily_seasonality=True to override this.\n",
            " 50%|█████     | 5/10 [01:44<00:57, 11.40s/it]/usr/local/lib/python3.7/dist-packages/statsmodels/tsa/statespace/sarimax.py:966: UserWarning:\n",
            "\n",
            "Non-stationary starting autoregressive parameters found. Using zeros as starting parameters.\n",
            "\n",
            "INFO:fbprophet:Disabling weekly seasonality. Run prophet with weekly_seasonality=True to override this.\n",
            "INFO:fbprophet:Disabling daily seasonality. Run prophet with daily_seasonality=True to override this.\n",
            " 60%|██████    | 6/10 [01:48<00:35,  8.99s/it]INFO:fbprophet:Disabling weekly seasonality. Run prophet with weekly_seasonality=True to override this.\n",
            "INFO:fbprophet:Disabling daily seasonality. Run prophet with daily_seasonality=True to override this.\n",
            " 70%|███████   | 7/10 [01:53<00:22,  7.60s/it]/usr/local/lib/python3.7/dist-packages/statsmodels/tsa/statespace/sarimax.py:966: UserWarning:\n",
            "\n",
            "Non-stationary starting autoregressive parameters found. Using zeros as starting parameters.\n",
            "\n",
            "INFO:fbprophet:Disabling weekly seasonality. Run prophet with weekly_seasonality=True to override this.\n",
            "INFO:fbprophet:Disabling daily seasonality. Run prophet with daily_seasonality=True to override this.\n",
            " 80%|████████  | 8/10 [01:57<00:12,  6.49s/it]/usr/local/lib/python3.7/dist-packages/statsmodels/tsa/statespace/sarimax.py:966: UserWarning:\n",
            "\n",
            "Non-stationary starting autoregressive parameters found. Using zeros as starting parameters.\n",
            "\n",
            "INFO:fbprophet:Disabling weekly seasonality. Run prophet with weekly_seasonality=True to override this.\n",
            "INFO:fbprophet:Disabling daily seasonality. Run prophet with daily_seasonality=True to override this.\n",
            " 90%|█████████ | 9/10 [02:01<00:05,  5.71s/it]INFO:fbprophet:Disabling weekly seasonality. Run prophet with weekly_seasonality=True to override this.\n",
            "INFO:fbprophet:Disabling daily seasonality. Run prophet with daily_seasonality=True to override this.\n",
            "100%|██████████| 10/10 [02:05<00:00, 12.57s/it]\n"
          ]
        }
      ]
    },
    {
      "cell_type": "code",
      "metadata": {
        "colab": {
          "base_uri": "https://localhost:8080/",
          "height": 142
        },
        "id": "1ac520a5",
        "outputId": "6d9416a2-7a9e-4523-e050-acb314ef6d48"
      },
      "source": [
        "all_scores.groupby('model')['metric_values'].apply(np.mean).reset_index()"
      ],
      "id": "1ac520a5",
      "execution_count": null,
      "outputs": [
        {
          "output_type": "execute_result",
          "data": {
            "text/html": [
              "<div>\n",
              "<style scoped>\n",
              "    .dataframe tbody tr th:only-of-type {\n",
              "        vertical-align: middle;\n",
              "    }\n",
              "\n",
              "    .dataframe tbody tr th {\n",
              "        vertical-align: top;\n",
              "    }\n",
              "\n",
              "    .dataframe thead th {\n",
              "        text-align: right;\n",
              "    }\n",
              "</style>\n",
              "<table border=\"1\" class=\"dataframe\">\n",
              "  <thead>\n",
              "    <tr style=\"text-align: right;\">\n",
              "      <th></th>\n",
              "      <th>model</th>\n",
              "      <th>metric_values</th>\n",
              "    </tr>\n",
              "  </thead>\n",
              "  <tbody>\n",
              "    <tr>\n",
              "      <th>0</th>\n",
              "      <td>dlt</td>\n",
              "      <td>0.056475</td>\n",
              "    </tr>\n",
              "    <tr>\n",
              "      <th>1</th>\n",
              "      <td>prophet</td>\n",
              "      <td>0.111940</td>\n",
              "    </tr>\n",
              "    <tr>\n",
              "      <th>2</th>\n",
              "      <td>sarima</td>\n",
              "      <td>0.097403</td>\n",
              "    </tr>\n",
              "  </tbody>\n",
              "</table>\n",
              "</div>"
            ],
            "text/plain": [
              "     model  metric_values\n",
              "0      dlt       0.056475\n",
              "1  prophet       0.111940\n",
              "2   sarima       0.097403"
            ]
          },
          "metadata": {
            "tags": []
          },
          "execution_count": 13
        }
      ]
    }
  ]
}